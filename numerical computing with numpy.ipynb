{
 "cells": [
  {
   "cell_type": "code",
   "execution_count": 1,
   "id": "6ea7ce7f",
   "metadata": {},
   "outputs": [],
   "source": [
    "\n",
    "\"\"\"\n",
    "\n",
    "Given some climate data for a region, we can now predict the yield of apples. Here's some sample data:\n",
    "\n",
    "<img src=\"https://i.imgur.com/TXPBiqv.png\" style=\"width:360px;\">\n",
    "\n",
    "To begin, we can define some variables to record climate data for a region.\n",
    "\n",
    "\n",
    "\"\"\"\n",
    "\n",
    "\n",
    "kanto = [73,67,43]\n",
    "johto = [91,88,64]\n",
    "hoenn = [87,134,58]\n",
    "sinnoh = [102,43,37]\n",
    "unova =[69,96,70]\n",
    "w1,w2,w3 = 0.3,0.2,0.5\n",
    "weight=[w1,w2,w3]\n",
    "\n",
    "    "
   ]
  },
  {
   "cell_type": "code",
   "execution_count": 2,
   "id": "013f7e61",
   "metadata": {},
   "outputs": [],
   "source": [
    "def crop_yield(data,weights):\n",
    "    result = 0\n",
    "    for x,w in zip(data,weight):\n",
    "        result+=x*w\n",
    "    return result"
   ]
  },
  {
   "cell_type": "code",
   "execution_count": 3,
   "id": "8a76d222",
   "metadata": {},
   "outputs": [
    {
     "data": {
      "text/plain": [
       "56.8"
      ]
     },
     "execution_count": 3,
     "metadata": {},
     "output_type": "execute_result"
    }
   ],
   "source": [
    "crop_yield(kanto,weight)"
   ]
  },
  {
   "cell_type": "code",
   "execution_count": 4,
   "id": "0d2abf00",
   "metadata": {},
   "outputs": [
    {
     "data": {
      "text/plain": [
       "76.9"
      ]
     },
     "execution_count": 4,
     "metadata": {},
     "output_type": "execute_result"
    }
   ],
   "source": [
    "crop_yield(johto,weight)"
   ]
  },
  {
   "cell_type": "markdown",
   "id": "cc78ad70",
   "metadata": {},
   "source": [
    "## going from python lists to numpy arrays"
   ]
  },
  {
   "cell_type": "code",
   "execution_count": 5,
   "id": "420a60a4",
   "metadata": {},
   "outputs": [],
   "source": [
    "import numpy as np"
   ]
  },
  {
   "cell_type": "code",
   "execution_count": 6,
   "id": "ce740aba",
   "metadata": {},
   "outputs": [
    {
     "data": {
      "text/plain": [
       "array([73, 67, 43])"
      ]
     },
     "execution_count": 6,
     "metadata": {},
     "output_type": "execute_result"
    }
   ],
   "source": [
    "# we can compute th dot products of two vectors using np.dot function\n",
    "# for this we have to convert python lists to numpy array\n",
    "kanto = np.array([73,67,43])\n",
    "kanto"
   ]
  },
  {
   "cell_type": "code",
   "execution_count": 7,
   "id": "20d52135",
   "metadata": {},
   "outputs": [
    {
     "data": {
      "text/plain": [
       "array([0.3, 0.2, 0.5])"
      ]
     },
     "execution_count": 7,
     "metadata": {},
     "output_type": "execute_result"
    }
   ],
   "source": [
    "weight = np.array([w1,w2,w3])\n",
    "weight"
   ]
  },
  {
   "cell_type": "code",
   "execution_count": 8,
   "id": "0be48141",
   "metadata": {},
   "outputs": [
    {
     "data": {
      "text/plain": [
       "56.8"
      ]
     },
     "execution_count": 8,
     "metadata": {},
     "output_type": "execute_result"
    }
   ],
   "source": [
    "np.dot(kanto,weight)\n"
   ]
  },
  {
   "cell_type": "code",
   "execution_count": 9,
   "id": "de88de25",
   "metadata": {},
   "outputs": [],
   "source": [
    "# same result is obtained using element wise multiplication of two arrays and calculating their sum using sum function"
   ]
  },
  {
   "cell_type": "code",
   "execution_count": 10,
   "id": "0cb383b3",
   "metadata": {},
   "outputs": [
    {
     "data": {
      "text/plain": [
       "56.8"
      ]
     },
     "execution_count": 10,
     "metadata": {},
     "output_type": "execute_result"
    }
   ],
   "source": [
    "(kanto*weight).sum()"
   ]
  },
  {
   "cell_type": "code",
   "execution_count": 11,
   "id": "da248891",
   "metadata": {},
   "outputs": [],
   "source": [
    "arr1 = np.array([1,2,3])\n",
    "arr2 = np.array([4,5,6])\n"
   ]
  },
  {
   "cell_type": "code",
   "execution_count": 12,
   "id": "bfdc5272",
   "metadata": {},
   "outputs": [
    {
     "data": {
      "text/plain": [
       "array([ 4, 10, 18])"
      ]
     },
     "execution_count": 12,
     "metadata": {},
     "output_type": "execute_result"
    }
   ],
   "source": [
    "arr=arr1*arr2\n",
    "arr"
   ]
  },
  {
   "cell_type": "code",
   "execution_count": 13,
   "id": "725f78b6",
   "metadata": {
    "scrolled": true
   },
   "outputs": [
    {
     "data": {
      "text/plain": [
       "32"
      ]
     },
     "execution_count": 13,
     "metadata": {},
     "output_type": "execute_result"
    }
   ],
   "source": [
    "arr.sum()"
   ]
  },
  {
   "cell_type": "markdown",
   "id": "ca34c12c",
   "metadata": {},
   "source": [
    "### numpy array is much faster than python list"
   ]
  },
  {
   "cell_type": "code",
   "execution_count": 14,
   "id": "47263dbc",
   "metadata": {
    "scrolled": true
   },
   "outputs": [
    {
     "name": "stdout",
     "output_type": "stream",
     "text": [
      "CPU times: total: 1.84 s\n",
      "Wall time: 2.01 s\n"
     ]
    }
   ],
   "source": [
    "%%time\n",
    "l1=list(range(10000000))\n",
    "l2 = list(range(10000000,20000000))\n",
    "result = 0\n",
    "for x,y in zip(l1,l2):\n",
    "    result+=x*y"
   ]
  },
  {
   "cell_type": "code",
   "execution_count": 15,
   "id": "ddff265d",
   "metadata": {
    "scrolled": false
   },
   "outputs": [
    {
     "name": "stdout",
     "output_type": "stream",
     "text": [
      "CPU times: total: 625 ms\n",
      "Wall time: 755 ms\n"
     ]
    },
    {
     "data": {
      "text/plain": [
       "690258880"
      ]
     },
     "execution_count": 15,
     "metadata": {},
     "output_type": "execute_result"
    }
   ],
   "source": [
    "%%time\n",
    "n1=np.array(l1)\n",
    "n2=np.array(l2)\n",
    "(n1*n2).sum()"
   ]
  },
  {
   "cell_type": "markdown",
   "id": "7a90b780",
   "metadata": {},
   "source": [
    "### Two dimensional numpy array"
   ]
  },
  {
   "cell_type": "code",
   "execution_count": 16,
   "id": "535785b8",
   "metadata": {},
   "outputs": [],
   "source": [
    "climate_data = np.array([[73,67,43],\n",
    "                          [91,88,64],\n",
    "                          [87,134,58],\n",
    "                          [102,43,37],\n",
    "                          [69,96,70]])                   "
   ]
  },
  {
   "cell_type": "code",
   "execution_count": 17,
   "id": "8f6b9429",
   "metadata": {
    "scrolled": true
   },
   "outputs": [
    {
     "name": "stdout",
     "output_type": "stream",
     "text": [
      "<class 'numpy.ndarray'>\n"
     ]
    }
   ],
   "source": [
    "# 2D array (matrix)\n",
    "climate_data.shape # gives number of rows and columns\n",
    "print(type(climate_data))"
   ]
  },
  {
   "cell_type": "code",
   "execution_count": 42,
   "id": "61e6ba7a",
   "metadata": {},
   "outputs": [
    {
     "name": "stdout",
     "output_type": "stream",
     "text": [
      "(3,)\n",
      "<class 'numpy.ndarray'>\n"
     ]
    }
   ],
   "source": [
    "# 1D array(vector)\n",
    "print(weight.shape)\n",
    "print(type(weight))"
   ]
  },
  {
   "cell_type": "code",
   "execution_count": 19,
   "id": "f568c795",
   "metadata": {},
   "outputs": [
    {
     "data": {
      "text/plain": [
       "array([56.8, 76.9, 81.9, 57.7, 74.9])"
      ]
     },
     "execution_count": 19,
     "metadata": {},
     "output_type": "execute_result"
    }
   ],
   "source": [
    "np.matmul(climate_data,weight)  #performs the matrix multiplication"
   ]
  },
  {
   "cell_type": "code",
   "execution_count": 20,
   "id": "11b43512",
   "metadata": {},
   "outputs": [
    {
     "data": {
      "text/plain": [
       "array([56.8, 76.9, 81.9, 57.7, 74.9])"
      ]
     },
     "execution_count": 20,
     "metadata": {},
     "output_type": "execute_result"
    }
   ],
   "source": [
    "# or simply use @ operator to perform matrix multiplication\n",
    "climate_data @ weight"
   ]
  },
  {
   "cell_type": "code",
   "execution_count": 21,
   "id": "9ec63c67",
   "metadata": {},
   "outputs": [
    {
     "name": "stdout",
     "output_type": "stream",
     "text": [
      "(3, 2, 3)\n",
      "float64\n"
     ]
    }
   ],
   "source": [
    "# 3D array\n",
    "arr3d = np.array([\n",
    "        [[2.0,30,50],\n",
    "         [10,11,12]],\n",
    "    \n",
    "        [[19,22,14],\n",
    "         [15,12,10]],\n",
    "    \n",
    "        [[19,22,14],\n",
    "         [15,12,10]]\n",
    "        ])\n",
    "print(arr3d.shape)\n",
    "print(arr3d.dtype)\n",
    "# if an array contains even a single floating point number, all other elements are converted to floats"
   ]
  },
  {
   "cell_type": "markdown",
   "id": "205ba551",
   "metadata": {},
   "source": [
    "## Working with CSV data files\n",
    "\n",
    "Numpy also provides helper functions reading from & writing to files. Let's download a file `climate.txt`, which contains 10,000 climate measurements (temperature, rainfall & humidity) in the following format:\n",
    "\n",
    "\n",
    "```\n",
    "temperature,rainfall,humidity\n",
    "25.00,76.00,99.00\n",
    "39.00,65.00,70.00\n",
    "59.00,45.00,77.00\n",
    "84.00,63.00,38.00\n",
    "66.00,50.00,52.00\n",
    "41.00,94.00,77.00\n",
    "91.00,57.00,96.00\n",
    "49.00,96.00,99.00\n",
    "67.00,20.00,28.00\n",
    "...\n",
    "```\n",
    "\n",
    "This format of storing data is known as *comma-separated values* or CSV. \n",
    "\n",
    "> **CSVs**: A comma-separated values (CSV) file is a delimited text file that uses a comma to separate values. Each line of the file is a data record. Each record consists of one or more fields, separated by commas. A CSV file typically stores tabular data (numbers and text) in plain text, in which case each line will have the same number of fields. (Wikipedia)\n",
    "\n",
    "\n",
    "To read this file into a numpy array, we can use the `genfromtxt` function."
   ]
  },
  {
   "cell_type": "code",
   "execution_count": 22,
   "id": "f49eb156",
   "metadata": {},
   "outputs": [
    {
     "data": {
      "text/plain": [
       "('climate.txt', <http.client.HTTPMessage at 0x1b03092fbd0>)"
      ]
     },
     "execution_count": 22,
     "metadata": {},
     "output_type": "execute_result"
    }
   ],
   "source": [
    "# to download text file. To view click on file and on open option we will see climate.txt file\n",
    "\n",
    "import urllib.request\n",
    "urllib.request.urlretrieve('https://gist.github.com/BirajCoder/a4ffcb76fd6fb221d76ac2ee2b8584e9/raw/4054f90adfd361b7aa4255e99c2e874664094cea/climate.csv', \n",
    "    'climate.txt')"
   ]
  },
  {
   "cell_type": "code",
   "execution_count": 23,
   "id": "f7f29f9d",
   "metadata": {},
   "outputs": [],
   "source": [
    "# To read data from textfile\n",
    "# loading data as numpy array\n",
    "\n",
    "climate_data=np.genfromtxt('climate.txt',delimiter =',',skip_header =1)\n",
    "\n",
    "# genfromtxt means generate from txt\n",
    "# first parameter is file name or we can give path of file\n",
    "# delimiter means separator between two datas. In our case, it is ','\n",
    "# skip_header means how many header rows we want to skip"
   ]
  },
  {
   "cell_type": "code",
   "execution_count": 24,
   "id": "5064f444",
   "metadata": {},
   "outputs": [
    {
     "data": {
      "text/plain": [
       "array([[25., 76., 99.],\n",
       "       [39., 65., 70.],\n",
       "       [59., 45., 77.],\n",
       "       ...,\n",
       "       [99., 62., 58.],\n",
       "       [70., 71., 91.],\n",
       "       [92., 39., 76.]])"
      ]
     },
     "execution_count": 24,
     "metadata": {},
     "output_type": "execute_result"
    }
   ],
   "source": [
    "climate_data"
   ]
  },
  {
   "cell_type": "code",
   "execution_count": 25,
   "id": "ecd309eb",
   "metadata": {},
   "outputs": [
    {
     "data": {
      "text/plain": [
       "(10000, 3)"
      ]
     },
     "execution_count": 25,
     "metadata": {},
     "output_type": "execute_result"
    }
   ],
   "source": [
    "climate_data.shape"
   ]
  },
  {
   "cell_type": "code",
   "execution_count": 26,
   "id": "87f609a7",
   "metadata": {},
   "outputs": [],
   "source": [
    "weights = np.array([0.2,0.3,0.4])"
   ]
  },
  {
   "cell_type": "code",
   "execution_count": 27,
   "id": "a8420430",
   "metadata": {},
   "outputs": [],
   "source": [
    "yields=climate_data @ weights"
   ]
  },
  {
   "cell_type": "code",
   "execution_count": 28,
   "id": "edd7414d",
   "metadata": {},
   "outputs": [
    {
     "data": {
      "text/plain": [
       "array([67.4, 55.3, 56.1, ..., 61.6, 71.7, 60.5])"
      ]
     },
     "execution_count": 28,
     "metadata": {},
     "output_type": "execute_result"
    }
   ],
   "source": [
    "yields"
   ]
  },
  {
   "cell_type": "code",
   "execution_count": 29,
   "id": "0ef45396",
   "metadata": {},
   "outputs": [
    {
     "data": {
      "text/plain": [
       "(10000,)"
      ]
     },
     "execution_count": 29,
     "metadata": {},
     "output_type": "execute_result"
    }
   ],
   "source": [
    "yields.shape"
   ]
  },
  {
   "cell_type": "code",
   "execution_count": 30,
   "id": "a1f85db4",
   "metadata": {},
   "outputs": [
    {
     "name": "stdout",
     "output_type": "stream",
     "text": [
      "[[1 2]\n",
      " [3 4]\n",
      " [5 6]]\n",
      "\n",
      "[[ 1  2  7  8  6  5]\n",
      " [ 3  4  9 10 11 12]]\n"
     ]
    }
   ],
   "source": [
    "# concatenating two arrays\n",
    "\n",
    "a = np.array([[1,2],\n",
    "             [3,4]])\n",
    "b = np.array([[5,6]])\n",
    "print(np.concatenate((a,b))) # adds b as 3rd row, We have to passas tuple i.e((a,b)) \n",
    "# if we want to concatenate by adding column then there must be equal number of rows in both arrays not necessarily equal columns like in (a and c)\n",
    "c = np.array([[7,8,6,5],\n",
    "             [9,10,11,12]])\n",
    "print()\n",
    "print(np.concatenate((a,c),axis =1))"
   ]
  },
  {
   "cell_type": "markdown",
   "id": "56e1135c",
   "metadata": {},
   "source": [
    " Let's add the `yields` to `climate_data` as a fourth column using the [`np.concatenate`]\n",
    " 'climate_data' has 10000 rows and yields has one row and 10000 therefore it is incompatible shape so we have to reshape yields, making 10000 rows and one column"
   ]
  },
  {
   "cell_type": "code",
   "execution_count": 31,
   "id": "c34eeb65",
   "metadata": {},
   "outputs": [
    {
     "data": {
      "text/plain": [
       "(10000, 1)"
      ]
     },
     "execution_count": 31,
     "metadata": {},
     "output_type": "execute_result"
    }
   ],
   "source": [
    "yields.reshape(10000,1).shape"
   ]
  },
  {
   "cell_type": "code",
   "execution_count": 32,
   "id": "30dc6969",
   "metadata": {},
   "outputs": [],
   "source": [
    "climate_results = np.concatenate((climate_data,yields.reshape(10000,1)),axis =1 )"
   ]
  },
  {
   "cell_type": "code",
   "execution_count": 33,
   "id": "f69820ae",
   "metadata": {},
   "outputs": [
    {
     "data": {
      "text/plain": [
       "array([[25. , 76. , 99. , 67.4],\n",
       "       [39. , 65. , 70. , 55.3],\n",
       "       [59. , 45. , 77. , 56.1],\n",
       "       ...,\n",
       "       [99. , 62. , 58. , 61.6],\n",
       "       [70. , 71. , 91. , 71.7],\n",
       "       [92. , 39. , 76. , 60.5]])"
      ]
     },
     "execution_count": 33,
     "metadata": {},
     "output_type": "execute_result"
    }
   ],
   "source": [
    "climate_results"
   ]
  },
  {
   "cell_type": "markdown",
   "id": "cb9594d0",
   "metadata": {},
   "source": [
    "#### We can also save the obtained results into the file again"
   ]
  },
  {
   "cell_type": "code",
   "execution_count": 34,
   "id": "439fa235",
   "metadata": {},
   "outputs": [],
   "source": [
    "np.savetxt('climate_results.txt', # -> name of file that we wanted to save\n",
    "           climate_results,  # data from which file is created\n",
    "           delimiter=' , ',\n",
    "           fmt ='%.2f',   # formating the floating point number\n",
    "          header = 'temperature,rainfall,humidity,yield_apples',\n",
    "           comments = '') # we have to pass comments as argument for no any comments appears in our text file)"
   ]
  },
  {
   "cell_type": "markdown",
   "id": "5118fc6b",
   "metadata": {},
   "source": [
    "## Arithmetic operations, broadcasting and comparison\n",
    "\n",
    "Numpy arrays support arithmetic operators like `+`, `-`, `*`, etc. You can perform an arithmetic operation with a single number (also called scalar) or with another array of the same shape. Operators make it easy to write mathematical expressions with multi-dimensional arrays."
   ]
  },
  {
   "cell_type": "code",
   "execution_count": 35,
   "id": "ef7e7545",
   "metadata": {},
   "outputs": [],
   "source": [
    "arr2 = np.array([[1, 2, 3, 4], \n",
    "                 [5, 6, 7, 8], \n",
    "                 [9, 1, 2, 3]])"
   ]
  },
  {
   "cell_type": "code",
   "execution_count": 36,
   "id": "035d3add",
   "metadata": {},
   "outputs": [],
   "source": [
    "arr3 = np.array([[11, 12, 13, 14], \n",
    "                 [15, 16, 17, 18], \n",
    "                 [19, 11, 12, 13]])"
   ]
  },
  {
   "cell_type": "code",
   "execution_count": 37,
   "id": "2ed9cc6a",
   "metadata": {},
   "outputs": [
    {
     "data": {
      "text/plain": [
       "array([[ 4,  5,  6,  7],\n",
       "       [ 8,  9, 10, 11],\n",
       "       [12,  4,  5,  6]])"
      ]
     },
     "execution_count": 37,
     "metadata": {},
     "output_type": "execute_result"
    }
   ],
   "source": [
    "# Adding a scalar\n",
    "arr2 + 3"
   ]
  },
  {
   "cell_type": "code",
   "execution_count": 38,
   "id": "e0e1fdfb",
   "metadata": {},
   "outputs": [
    {
     "data": {
      "text/plain": [
       "array([[10, 10, 10, 10],\n",
       "       [10, 10, 10, 10],\n",
       "       [10, 10, 10, 10]])"
      ]
     },
     "execution_count": 38,
     "metadata": {},
     "output_type": "execute_result"
    }
   ],
   "source": [
    "# Element-wise subtraction\n",
    "arr3 - arr2"
   ]
  },
  {
   "cell_type": "code",
   "execution_count": 39,
   "id": "bc208dee",
   "metadata": {},
   "outputs": [
    {
     "data": {
      "text/plain": [
       "array([[0.5, 1. , 1.5, 2. ],\n",
       "       [2.5, 3. , 3.5, 4. ],\n",
       "       [4.5, 0.5, 1. , 1.5]])"
      ]
     },
     "execution_count": 39,
     "metadata": {},
     "output_type": "execute_result"
    }
   ],
   "source": [
    "# Division by scalar\n",
    "arr2 / 2"
   ]
  },
  {
   "cell_type": "code",
   "execution_count": 40,
   "id": "745aa728",
   "metadata": {},
   "outputs": [
    {
     "data": {
      "text/plain": [
       "array([[ 11,  24,  39,  56],\n",
       "       [ 75,  96, 119, 144],\n",
       "       [171,  11,  24,  39]])"
      ]
     },
     "execution_count": 40,
     "metadata": {},
     "output_type": "execute_result"
    }
   ],
   "source": [
    "# Element-wise multiplication\n",
    "arr2 * arr3"
   ]
  },
  {
   "cell_type": "code",
   "execution_count": 41,
   "id": "27081ab7",
   "metadata": {},
   "outputs": [
    {
     "data": {
      "text/plain": [
       "array([[1, 2, 3, 0],\n",
       "       [1, 2, 3, 0],\n",
       "       [1, 1, 2, 3]], dtype=int32)"
      ]
     },
     "execution_count": 41,
     "metadata": {},
     "output_type": "execute_result"
    }
   ],
   "source": [
    "# Modulus with scalar\n",
    "arr2 % 4"
   ]
  },
  {
   "cell_type": "markdown",
   "id": "638473a2",
   "metadata": {},
   "source": [
    "### Array Broadcasting\n",
    "\n",
    "Numpy arrays also support *broadcasting*, allowing arithmetic operations between two arrays with different numbers of dimensions but compatible shapes. Let's look at an example to see how it works."
   ]
  },
  {
   "cell_type": "code",
   "execution_count": 50,
   "id": "6b28e0ea",
   "metadata": {},
   "outputs": [],
   "source": [
    "arr2 = np.array([[1, 2, 3, 4], \n",
    "                 [5, 6, 7, 8], \n",
    "                 [9, 1, 2, 3]])"
   ]
  },
  {
   "cell_type": "code",
   "execution_count": 51,
   "id": "f6c1af30",
   "metadata": {},
   "outputs": [
    {
     "data": {
      "text/plain": [
       "(3, 4)"
      ]
     },
     "execution_count": 51,
     "metadata": {},
     "output_type": "execute_result"
    }
   ],
   "source": [
    "arr2.shape"
   ]
  },
  {
   "cell_type": "code",
   "execution_count": 52,
   "id": "96376645",
   "metadata": {},
   "outputs": [],
   "source": [
    "arr4 = np.array([4, 5, 6, 7])"
   ]
  },
  {
   "cell_type": "code",
   "execution_count": 53,
   "id": "d68e2b8c",
   "metadata": {},
   "outputs": [
    {
     "data": {
      "text/plain": [
       "(4,)"
      ]
     },
     "execution_count": 53,
     "metadata": {},
     "output_type": "execute_result"
    }
   ],
   "source": [
    "arr4.shape"
   ]
  },
  {
   "cell_type": "code",
   "execution_count": 54,
   "id": "fcc8cbdf",
   "metadata": {},
   "outputs": [
    {
     "data": {
      "text/plain": [
       "array([[ 5,  7,  9, 11],\n",
       "       [ 9, 11, 13, 15],\n",
       "       [13,  6,  8, 10]])"
      ]
     },
     "execution_count": 54,
     "metadata": {},
     "output_type": "execute_result"
    }
   ],
   "source": [
    "arr2 + arr4"
   ]
  },
  {
   "cell_type": "markdown",
   "id": "dbbdd375",
   "metadata": {},
   "source": [
    "When the expression `arr2 + arr4` is evaluated, `arr4` (which has the shape `(4,)`) is replicated three times to match the shape `(3, 4)` of `arr2`. Numpy performs the replication without actually creating three copies of the smaller dimension array, thus improving performance and using lower memory.\n",
    "For this the numbers of column of first array and row of second array should be same\n",
    "\n",
    "<img src=\"https://jakevdp.github.io/PythonDataScienceHandbook/figures/02.05-broadcasting.png\" width=\"360\">\n",
    "\n",
    "Broadcasting only works if one of the arrays can be replicated to match the other array's shape."
   ]
  },
  {
   "cell_type": "code",
   "execution_count": 56,
   "id": "ead04893",
   "metadata": {},
   "outputs": [],
   "source": [
    "arr1 = np.array([[[1,2,3],\n",
    "                 [2,3,4],\n",
    "                 [3,4,5]],\n",
    "                 \n",
    "                 [[4,5,6],\n",
    "                  [5,6,7],\n",
    "                  [7,8,9]]])"
   ]
  },
  {
   "cell_type": "code",
   "execution_count": 57,
   "id": "fabe26fe",
   "metadata": {},
   "outputs": [
    {
     "data": {
      "text/plain": [
       "(2, 3, 3)"
      ]
     },
     "execution_count": 57,
     "metadata": {},
     "output_type": "execute_result"
    }
   ],
   "source": [
    "arr1.shape"
   ]
  },
  {
   "cell_type": "code",
   "execution_count": 63,
   "id": "d4928812",
   "metadata": {},
   "outputs": [],
   "source": [
    "arr2 = np.array([[0,2,4],\n",
    "                 [1,3,5],\n",
    "                 [1,2,3]])"
   ]
  },
  {
   "cell_type": "code",
   "execution_count": 64,
   "id": "f4283cac",
   "metadata": {},
   "outputs": [
    {
     "data": {
      "text/plain": [
       "(3,)"
      ]
     },
     "execution_count": 64,
     "metadata": {},
     "output_type": "execute_result"
    }
   ],
   "source": [
    "arr2.shape"
   ]
  },
  {
   "cell_type": "code",
   "execution_count": 65,
   "id": "c844e4bc",
   "metadata": {},
   "outputs": [
    {
     "data": {
      "text/plain": [
       "array([[[ 1,  4,  7],\n",
       "        [ 2,  5,  8],\n",
       "        [ 3,  6,  9]],\n",
       "\n",
       "       [[ 4,  7, 10],\n",
       "        [ 5,  8, 11],\n",
       "        [ 7, 10, 13]]])"
      ]
     },
     "execution_count": 65,
     "metadata": {},
     "output_type": "execute_result"
    }
   ],
   "source": [
    "arr1+arr2"
   ]
  },
  {
   "cell_type": "markdown",
   "id": "d42e98eb",
   "metadata": {},
   "source": [
    "### Array Comparison\n",
    "\n",
    "Numpy arrays also support comparison operations like `==`, `!=`, `>` etc. The result is an array of booleans."
   ]
  },
  {
   "cell_type": "code",
   "execution_count": 66,
   "id": "3c069d34",
   "metadata": {},
   "outputs": [],
   "source": [
    "arr1 = np.array([[1, 2, 3], [3, 4, 5]])\n",
    "arr2 = np.array([[2, 2, 3], [1, 2, 5]])"
   ]
  },
  {
   "cell_type": "code",
   "execution_count": 67,
   "id": "a282ac50",
   "metadata": {},
   "outputs": [
    {
     "data": {
      "text/plain": [
       "array([[False,  True,  True],\n",
       "       [False, False,  True]])"
      ]
     },
     "execution_count": 67,
     "metadata": {},
     "output_type": "execute_result"
    }
   ],
   "source": [
    "arr1 == arr2"
   ]
  },
  {
   "cell_type": "code",
   "execution_count": 68,
   "id": "f4b0f9c6",
   "metadata": {},
   "outputs": [
    {
     "data": {
      "text/plain": [
       "array([[ True, False, False],\n",
       "       [ True,  True, False]])"
      ]
     },
     "execution_count": 68,
     "metadata": {},
     "output_type": "execute_result"
    }
   ],
   "source": [
    "arr1 != arr2"
   ]
  },
  {
   "cell_type": "code",
   "execution_count": 69,
   "id": "38c7a53e",
   "metadata": {},
   "outputs": [
    {
     "data": {
      "text/plain": [
       "array([[False,  True,  True],\n",
       "       [ True,  True,  True]])"
      ]
     },
     "execution_count": 69,
     "metadata": {},
     "output_type": "execute_result"
    }
   ],
   "source": [
    "arr1 >= arr2"
   ]
  },
  {
   "cell_type": "code",
   "execution_count": 70,
   "id": "c817fff1",
   "metadata": {},
   "outputs": [
    {
     "data": {
      "text/plain": [
       "array([[ True, False, False],\n",
       "       [False, False, False]])"
      ]
     },
     "execution_count": 70,
     "metadata": {},
     "output_type": "execute_result"
    }
   ],
   "source": [
    "arr1 < arr2"
   ]
  },
  {
   "cell_type": "code",
   "execution_count": 72,
   "id": "4e7d6c33",
   "metadata": {},
   "outputs": [
    {
     "data": {
      "text/plain": [
       "3"
      ]
     },
     "execution_count": 72,
     "metadata": {},
     "output_type": "execute_result"
    }
   ],
   "source": [
    "(arr1 == arr2).sum() # total 3 positions are matched in 'arr1' and 'arr2'"
   ]
  },
  {
   "cell_type": "markdown",
   "id": "fe653054",
   "metadata": {},
   "source": [
    "## Array indexing and slicing\n",
    "\n",
    "Numpy extends Python's list indexing notation using `[]` to multiple dimensions in an intuitive fashion. You can provide a comma-separated list of indices or ranges to select a specific element or a subarray (also called a slice) from a Numpy array."
   ]
  },
  {
   "cell_type": "code",
   "execution_count": 75,
   "id": "b7406320",
   "metadata": {},
   "outputs": [],
   "source": [
    "arr3 = np.array([\n",
    "        [[11,12,13,14],\n",
    "         [13,14,15,19]],\n",
    "    \n",
    "         [[15,16,17,21],\n",
    "         [63,92,36,18]],\n",
    "    \n",
    "         [[98,32,81,23],\n",
    "         [17,18,19.5,43]]\n",
    "    \n",
    "        ])"
   ]
  },
  {
   "cell_type": "code",
   "execution_count": 76,
   "id": "8d10c4fb",
   "metadata": {},
   "outputs": [
    {
     "data": {
      "text/plain": [
       "(3, 2, 4)"
      ]
     },
     "execution_count": 76,
     "metadata": {},
     "output_type": "execute_result"
    }
   ],
   "source": [
    "arr3.shape"
   ]
  },
  {
   "cell_type": "code",
   "execution_count": 77,
   "id": "a262fbea",
   "metadata": {},
   "outputs": [
    {
     "data": {
      "text/plain": [
       "36.0"
      ]
     },
     "execution_count": 77,
     "metadata": {},
     "output_type": "execute_result"
    }
   ],
   "source": [
    "# Single element\n",
    "# Single element\n",
    "arr3[1, 1, 2]"
   ]
  },
  {
   "cell_type": "code",
   "execution_count": 78,
   "id": "dca79c7c",
   "metadata": {},
   "outputs": [
    {
     "data": {
      "text/plain": [
       "array([[[15., 16.]],\n",
       "\n",
       "       [[98., 32.]]])"
      ]
     },
     "execution_count": 78,
     "metadata": {},
     "output_type": "execute_result"
    }
   ],
   "source": [
    "# Subarray using ranges\n",
    "arr3[1:, 0:1, :2]"
   ]
  },
  {
   "cell_type": "code",
   "execution_count": 79,
   "id": "63d3b12d",
   "metadata": {},
   "outputs": [
    {
     "data": {
      "text/plain": [
       "array([18., 43.])"
      ]
     },
     "execution_count": 79,
     "metadata": {},
     "output_type": "execute_result"
    }
   ],
   "source": [
    "# Mixing indices and ranges\n",
    "arr3[1:, 1, 3]"
   ]
  },
  {
   "cell_type": "code",
   "execution_count": 80,
   "id": "23c0ebe3",
   "metadata": {},
   "outputs": [
    {
     "data": {
      "text/plain": [
       "array([[63. , 92. , 36. ],\n",
       "       [17. , 18. , 19.5]])"
      ]
     },
     "execution_count": 80,
     "metadata": {},
     "output_type": "execute_result"
    }
   ],
   "source": [
    "# Mixing indices and ranges\n",
    "arr3[1:, 1, :3]"
   ]
  },
  {
   "cell_type": "code",
   "execution_count": 81,
   "id": "a5c7e713",
   "metadata": {},
   "outputs": [
    {
     "data": {
      "text/plain": [
       "array([[15., 16., 17., 21.],\n",
       "       [63., 92., 36., 18.]])"
      ]
     },
     "execution_count": 81,
     "metadata": {},
     "output_type": "execute_result"
    }
   ],
   "source": [
    "\n",
    "# Using fewer indices\n",
    "arr3[1]\n"
   ]
  },
  {
   "cell_type": "code",
   "execution_count": 84,
   "id": "ca3ac262",
   "metadata": {},
   "outputs": [
    {
     "data": {
      "text/plain": [
       "36.0"
      ]
     },
     "execution_count": 84,
     "metadata": {},
     "output_type": "execute_result"
    }
   ],
   "source": [
    "# Using too many indices. Maximum indices we can pass is the dimension of array\n",
    "arr3[1,1,2]"
   ]
  },
  {
   "cell_type": "markdown",
   "id": "cb2fae6a",
   "metadata": {},
   "source": [
    "## Other ways of creating Numpy arrays\n",
    "\n",
    "Numpy also provides some handy functions to create arrays of desired shapes with fixed or random values. Check out the [official documentation](https://numpy.org/doc/stable/reference/routines.array-creation.html) or use the `help` function to learn more."
   ]
  },
  {
   "cell_type": "code",
   "execution_count": 85,
   "id": "5fce53ab",
   "metadata": {},
   "outputs": [
    {
     "data": {
      "text/plain": [
       "array([[0., 0.],\n",
       "       [0., 0.],\n",
       "       [0., 0.]])"
      ]
     },
     "execution_count": 85,
     "metadata": {},
     "output_type": "execute_result"
    }
   ],
   "source": [
    "# All zeros\n",
    "np.zeros((3, 2))"
   ]
  },
  {
   "cell_type": "code",
   "execution_count": 86,
   "id": "db428af6",
   "metadata": {},
   "outputs": [
    {
     "data": {
      "text/plain": [
       "array([[[1., 1., 1.],\n",
       "        [1., 1., 1.]],\n",
       "\n",
       "       [[1., 1., 1.],\n",
       "        [1., 1., 1.]]])"
      ]
     },
     "execution_count": 86,
     "metadata": {},
     "output_type": "execute_result"
    }
   ],
   "source": [
    "# All ones\n",
    "np.ones([2, 2, 3])"
   ]
  },
  {
   "cell_type": "code",
   "execution_count": 87,
   "id": "4438672e",
   "metadata": {},
   "outputs": [
    {
     "data": {
      "text/plain": [
       "array([[1., 0., 0.],\n",
       "       [0., 1., 0.],\n",
       "       [0., 0., 1.]])"
      ]
     },
     "execution_count": 87,
     "metadata": {},
     "output_type": "execute_result"
    }
   ],
   "source": [
    "# Identity matrix\n",
    "np.eye(3)"
   ]
  },
  {
   "cell_type": "code",
   "execution_count": 91,
   "id": "99a16221",
   "metadata": {},
   "outputs": [
    {
     "data": {
      "text/plain": [
       "array([[0.3159624 , 0.45834771, 0.22352846, 0.73767513],\n",
       "       [0.73757349, 0.16721217, 0.4653969 , 0.29880662],\n",
       "       [0.59496315, 0.05247677, 0.00158921, 0.82515695],\n",
       "       [0.94693176, 0.1593228 , 0.14058705, 0.82117103],\n",
       "       [0.46622114, 0.44341397, 0.82571068, 0.94997851]])"
      ]
     },
     "execution_count": 91,
     "metadata": {},
     "output_type": "execute_result"
    }
   ],
   "source": [
    "# Random vector\n",
    "np.random.rand(5,4)"
   ]
  },
  {
   "cell_type": "code",
   "execution_count": 89,
   "id": "7fba307b",
   "metadata": {},
   "outputs": [
    {
     "data": {
      "text/plain": [
       "array([[ 0.02527711,  0.81391877, -0.33915434],\n",
       "       [ 1.46269967, -0.81810818, -1.05848704]])"
      ]
     },
     "execution_count": 89,
     "metadata": {},
     "output_type": "execute_result"
    }
   ],
   "source": [
    "# Random matrix\n",
    "np.random.randn(2, 3) # rand vs. randn - what's the difference?"
   ]
  },
  {
   "cell_type": "code",
   "execution_count": 90,
   "id": "c232b140",
   "metadata": {},
   "outputs": [
    {
     "data": {
      "text/plain": [
       "array([[42, 42, 42],\n",
       "       [42, 42, 42]])"
      ]
     },
     "execution_count": 90,
     "metadata": {},
     "output_type": "execute_result"
    }
   ],
   "source": [
    "# Fixed value--> array of given shape with value we passed\n",
    "np.full([2, 3], 42)"
   ]
  },
  {
   "cell_type": "code",
   "execution_count": 95,
   "id": "2c415242",
   "metadata": {},
   "outputs": [
    {
     "name": "stdout",
     "output_type": "stream",
     "text": [
      "[10 13 16 19 22 25 28 31 34 37 40 43 46 49 52 55 58 61 64 67 70 73 76 79\n",
      " 82 85 88]\n",
      "\n",
      "[[[10 13 16]\n",
      "  [19 22 25]\n",
      "  [28 31 34]]\n",
      "\n",
      " [[37 40 43]\n",
      "  [46 49 52]\n",
      "  [55 58 61]]\n",
      "\n",
      " [[64 67 70]\n",
      "  [73 76 79]\n",
      "  [82 85 88]]]\n"
     ]
    }
   ],
   "source": [
    "# Range with start, end and step\n",
    "print(np.arange(10, 90, 3))\n",
    "print()\n",
    "# we can reshape them\n",
    "print(np.arange(10,90,3).reshape(3,3,3))\n"
   ]
  },
  {
   "cell_type": "code",
   "execution_count": 99,
   "id": "02d6efaa",
   "metadata": {},
   "outputs": [
    {
     "name": "stdout",
     "output_type": "stream",
     "text": [
      "[ 3.  6.  9. 12. 15. 18. 21. 24. 27.]\n",
      "[ 3. 15. 27.]\n"
     ]
    }
   ],
   "source": [
    "# Equally spaced numbers in a range\n",
    "print(np.linspace(3, 27, 9)) # makes array of 9 elements from 3 to 27\n",
    "print(np.linspace(3, 27, 3))"
   ]
  },
  {
   "cell_type": "code",
   "execution_count": null,
   "id": "4a6e1c42",
   "metadata": {},
   "outputs": [],
   "source": []
  }
 ],
 "metadata": {
  "kernelspec": {
   "display_name": "Python 3 (ipykernel)",
   "language": "python",
   "name": "python3"
  },
  "language_info": {
   "codemirror_mode": {
    "name": "ipython",
    "version": 3
   },
   "file_extension": ".py",
   "mimetype": "text/x-python",
   "name": "python",
   "nbconvert_exporter": "python",
   "pygments_lexer": "ipython3",
   "version": "3.11.5"
  }
 },
 "nbformat": 4,
 "nbformat_minor": 5
}
